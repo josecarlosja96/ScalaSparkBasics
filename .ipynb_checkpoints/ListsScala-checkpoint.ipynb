{
 "cells": [
  {
   "cell_type": "markdown",
   "metadata": {},
   "source": [
    "# Working with lists in Scala"
   ]
  },
  {
   "cell_type": "markdown",
   "metadata": {},
   "source": [
    "Dataset (English Premier League stats 2019-2020) taken from [here](https://www.kaggle.com/idoyo92/epl-stats-20192020)"
   ]
  },
  {
   "cell_type": "code",
   "execution_count": 1,
   "metadata": {},
   "outputs": [
    {
     "data": {
      "text/plain": [
       "Intitializing Scala interpreter ..."
      ]
     },
     "metadata": {},
     "output_type": "display_data"
    },
    {
     "data": {
      "text/plain": [
       "Spark Web UI available at http://DESKTOP-M0P9HNP:4040\n",
       "SparkContext available as 'sc' (version = 3.0.0-preview2, master = local[*], app id = local-1590269988426)\n",
       "SparkSession available as 'spark'\n"
      ]
     },
     "metadata": {},
     "output_type": "display_data"
    },
    {
     "data": {
      "text/plain": [
       "import org.apache.spark.sql.types.{StructType, StructField, StringType, IntegerType}\r\n"
      ]
     },
     "execution_count": 1,
     "metadata": {},
     "output_type": "execute_result"
    }
   ],
   "source": [
    "import org.apache.spark.sql.types.{StructType, StructField, StringType, IntegerType};"
   ]
  },
  {
   "cell_type": "code",
   "execution_count": 2,
   "metadata": {},
   "outputs": [
    {
     "data": {
      "text/plain": [
       "df: org.apache.spark.sql.DataFrame = [_c0: string, h_a: string ... 43 more fields]\r\n"
      ]
     },
     "execution_count": 2,
     "metadata": {},
     "output_type": "execute_result"
    }
   ],
   "source": [
    "val df = spark.read.format(\"csv\").option(\"header\", \"true\").load(\"epl2020.csv\")"
   ]
  },
  {
   "cell_type": "code",
   "execution_count": 19,
   "metadata": {},
   "outputs": [
    {
     "name": "stdout",
     "output_type": "stream",
     "text": [
      "+---+---+--------+--------+--------+--------+----+------------+------+------+------+------+-------------------+----+-----+-----+---+---------+---------+----------------+----------------+---------+----------+-----+--------+-------+---------+----+-----+----+----+----+----+----+-----+----+----+----+----+-------+-------+-------+-----------------+-----------------+--------+\n",
      "|_c0|h_a|      xG|     xGA|    npxG|   npxGA|deep|deep_allowed|scored|missed|  xpts|result|               date|wins|draws|loses|pts|    npxGD|   teamId|        ppda_cal|    allowed_ppda|matchtime|tot_points|round|tot_goal|tot_con|Referee.x|HS.x|HST.x|HF.x|HC.x|HY.x|HR.x|AS.x|AST.x|AF.x|AC.x|AY.x|AR.x|B365H.x|B365D.x|B365A.x|         HtrgPerc|         AtrgPerc|matchDay|\n",
      "+---+---+--------+--------+--------+--------+----+------------+------+------+------+------+-------------------+----+-----+-----+---+---------+---------+----------------+----------------+---------+----------+-----+--------+-------+---------+----+-----+----+----+----+----+----+-----+----+----+----+----+-------+-------+-------+-----------------+-----------------+--------+\n",
      "|  1|  h| 2.23456|0.842407| 2.23456|0.842407|  11|           5|     4|     1|2.3863|     w|2019-08-09 20:00:00|   1|    0|    0|  3| 1.392153|Liverpool|5.94285714285714|21.4545454545455|       20|         3|    1|       4|      1| M Oliver|  15|    7|   9|  11|   0|   0|  12|    5|   9|   2|   2|   0|   1.14|     10|     19|0.466666666666667|0.416666666666667|     Fri|\n",
      "|  2|  a|0.842407| 2.23456|0.842407| 2.23456|   5|          11|     1|     4|0.4405|     l|2019-08-09 20:00:00|   0|    0|    1|  0|-1.392153|  Norwich|21.4545454545455|5.94285714285714|       20|         0|    1|       1|      4| M Oliver|  15|    7|   9|  11|   0|   0|  12|    5|   9|   2|   2|   0|   1.14|     10|     19|0.466666666666667|0.416666666666667|     Fri|\n",
      "+---+---+--------+--------+--------+--------+----+------------+------+------+------+------+-------------------+----+-----+-----+---+---------+---------+----------------+----------------+---------+----------+-----+--------+-------+---------+----+-----+----+----+----+----+----+-----+----+----+----+----+-------+-------+-------+-----------------+-----------------+--------+\n",
      "only showing top 2 rows\n",
      "\n"
     ]
    }
   ],
   "source": [
    "df.show(2)"
   ]
  },
  {
   "cell_type": "code",
   "execution_count": 3,
   "metadata": {},
   "outputs": [
    {
     "data": {
      "text/plain": [
       "listTeams: List[String] = List(Liverpool, Norwich, Man City, West Ham, Bournemouth, Brighton, Burnley, Crystal Palace, Everton, Sheffield United, Southampton, Watford, Aston Villa, Tottenham, Arsenal, Leicester, Newcastle United, Wolves, Chelsea, Man Utd, Arsenal, Burnley, Aston Villa, Bournemouth, Brighton, Everton, Liverpool, Newcastle United, Norwich, Southampton, Watford, West Ham, Man City, Tottenham, Crystal Palace, Sheffield United, Chelsea, Leicester, Man Utd, Wolves, Aston Villa, Everton, Chelsea, Norwich, Brighton, Crystal Palace, Leicester, Man Utd, Sheffield United, Southampton, Watford, West Ham, Arsenal, Liverpool, Bournemouth, Man City, Burnley, Newcastle United, Tottenham, Wolves, Man Utd, Southampton, Aston Villa, Bournemouth, Brighton, Chelsea, Crystal Palace, Leiceste...\r\n"
      ]
     },
     "execution_count": 3,
     "metadata": {},
     "output_type": "execute_result"
    }
   ],
   "source": [
    "val listTeams = df.select(\"teamId\").rdd.map(r => r(0).asInstanceOf[java.lang.String]).collect().toList"
   ]
  },
  {
   "cell_type": "code",
   "execution_count": 4,
   "metadata": {},
   "outputs": [
    {
     "data": {
      "text/plain": [
       "res0: List[String] = List(Man Utd, Liverpool, Norwich, Man City)\r\n"
      ]
     },
     "execution_count": 4,
     "metadata": {},
     "output_type": "execute_result"
    }
   ],
   "source": [
    "\"Man Utd\" :: listTeams.take(3)"
   ]
  },
  {
   "cell_type": "markdown",
   "metadata": {},
   "source": [
    "### Yield"
   ]
  },
  {
   "cell_type": "code",
   "execution_count": null,
   "metadata": {},
   "outputs": [],
   "source": [
    "for (team <- listTeams) yield team.toUpperCase"
   ]
  },
  {
   "cell_type": "code",
   "execution_count": 12,
   "metadata": {},
   "outputs": [
    {
     "name": "stdout",
     "output_type": "stream",
     "text": [
      "i = 1, j = 1\n",
      "i = 1, j = 2\n",
      "i = 2, j = 1\n",
      "i = 2, j = 2\n"
     ]
    }
   ],
   "source": [
    "for { i <- 1 to 2 ; j <- 1 to 2 } println(s\"i = $i, j = $j\")"
   ]
  },
  {
   "cell_type": "code",
   "execution_count": 17,
   "metadata": {},
   "outputs": [
    {
     "data": {
      "text/plain": [
       "MTeams: List[String] = List(Man City, Man Utd, Man City, Man Utd, Man Utd, Man City, Man Utd, Man City, Man Utd, Man City, Man City, Man Utd, Man City, Man Utd, Man City, Man Utd, Man City, Man Utd, Man City, Man Utd, Man Utd, Man City, Man Utd, Man City, Man City, Man Utd, Man City, Man Utd, Man City, Man Utd, Man City, Man Utd, Man Utd, Man City, Man City, Man Utd, Man Utd, Man City, Man Utd, Man City, Man City, Man Utd, Man Utd, Man City, Man City, Man Utd, Man City, Man Utd, Man Utd, Man City, Man Utd, Man City, Man City, Man Utd, Man Utd, Man City, Man Utd)\r\n"
      ]
     },
     "execution_count": 17,
     "metadata": {},
     "output_type": "execute_result"
    }
   ],
   "source": [
    "val MTeams = for (team <- listTeams if team.startsWith(\"M\")) yield team "
   ]
  },
  {
   "cell_type": "markdown",
   "metadata": {},
   "source": [
    "### Fold"
   ]
  },
  {
   "cell_type": "markdown",
   "metadata": {},
   "source": [
    "*The primary difference is the order in which the fold operation iterates through the collection in question. foldLeft starts on the left side—the first item—and iterates to the right; foldRight starts on the right side—the last item—and iterates to the left. fold goes in no particular order.*\n",
    "\n",
    "[Link to article](https://coderwall.com/p/4l73-a/scala-fold-foldleft-and-foldright)"
   ]
  },
  {
   "cell_type": "code",
   "execution_count": 35,
   "metadata": {},
   "outputs": [
    {
     "data": {
      "text/plain": [
       "SumScored: org.apache.spark.sql.DataFrame = [scored: string, Scoreds: int]\r\n"
      ]
     },
     "execution_count": 35,
     "metadata": {},
     "output_type": "execute_result"
    }
   ],
   "source": [
    "val SumScored = df.select(\"scored\").withColumn(\"Scoreds\", df.col(\"scored\").cast(IntegerType))"
   ]
  },
  {
   "cell_type": "code",
   "execution_count": 36,
   "metadata": {},
   "outputs": [
    {
     "name": "stdout",
     "output_type": "stream",
     "text": [
      "root\n",
      " |-- scored: string (nullable = true)\n",
      " |-- Scoreds: integer (nullable = true)\n",
      "\n"
     ]
    }
   ],
   "source": [
    "SumScored.printSchema()"
   ]
  },
  {
   "cell_type": "code",
   "execution_count": 62,
   "metadata": {},
   "outputs": [
    {
     "data": {
      "text/plain": [
       "SumScoredList: List[Integer] = List(4, 1, 5, 0, 1, 3, 3, 0, 0, 1, 0, 0, 1, 3, 1, 0, 0, 0, 0, 4, 2, 1, 1, 2, 1, 1, 2, 1, 3, 1, 0, 1, 2, 2, 0, 1, 1, 1, 1, 1, 2, 0, 3, 2, 0, 2, 2, 1, 1, 2, 1, 3, 1, 3, 1, 3, 1, 1, 0, 1, 1, 1, 0, 1, 0, 2, 1, 3, 4, 1, 0, 2, 1, 2, 0, 3, 3, 2, 2, 2, 3, 1, 1, 1, 5, 0, 0, 1, 0, 1, 4, 2, 2, 3, 3, 1, 2, 2, 0, 0, 3, 1, 2, 1, 2, 0, 8, 0, 2, 0, 0, 0, 1, 0, 2, 1, 3, 2, 1, 2, 1, 0, 2, 2, 0, 2, 2, 2, 0, 1, 2, 0, 2, 2, 1, 3, 5, 0, 1, 1, 3, 0, 5, 1, 0, 1, 2, 1, 0, 0, 2, 1, 1, 0, 4, 0, 1, 2, 0, 1, 2, 0, 2, 0, 1, 1, 1, 2, 0, 0, 1, 1, 1, 1, 0, 2, 1, 1, 0, 1, 9, 0, 0, 3, 0, 3, 2, 1, 0, 1, 2, 4, 1, 1, 2, 2, 2, 3, 1, 1, 1, 0, 1, 1, 2, 0, 2, 2, 3, 0, 3, 1, 2, 1, 2, 1, 0, 2, 1, 1, 0, 2, 2, 0, 1, 3, 2, 2, 1, 1, 1, 0, 0, 2, 1, 1, 3, 2, 3, 1, 3, 2, 2, 1, 0, 3, 1, 0, 2, 2, 2, 2, 0, 2,...\r\n"
      ]
     },
     "execution_count": 62,
     "metadata": {},
     "output_type": "execute_result"
    }
   ],
   "source": [
    "val SumScoredList = SumScored.select(\"Scoreds\").rdd.map(r => r(0).asInstanceOf[Integer]).collect().toList"
   ]
  },
  {
   "cell_type": "code",
   "execution_count": 59,
   "metadata": {},
   "outputs": [
    {
     "data": {
      "text/plain": [
       "sumRight: Int = 784\r\n"
      ]
     },
     "execution_count": 59,
     "metadata": {},
     "output_type": "execute_result"
    }
   ],
   "source": [
    "val sumRight = SumScoredList.foldRight(0)(_ + _)"
   ]
  },
  {
   "cell_type": "code",
   "execution_count": 58,
   "metadata": {},
   "outputs": [
    {
     "data": {
      "text/plain": [
       "sumLeft: Int = 784\r\n"
      ]
     },
     "execution_count": 58,
     "metadata": {},
     "output_type": "execute_result"
    }
   ],
   "source": [
    "val sumLeft = SumScoredList.foldLeft(0)(_ + _)"
   ]
  }
 ],
 "metadata": {
  "kernelspec": {
   "display_name": "spylon-kernel",
   "language": "scala",
   "name": "spylon-kernel"
  },
  "language_info": {
   "codemirror_mode": "text/x-scala",
   "file_extension": ".scala",
   "help_links": [
    {
     "text": "MetaKernel Magics",
     "url": "https://metakernel.readthedocs.io/en/latest/source/README.html"
    }
   ],
   "mimetype": "text/x-scala",
   "name": "scala",
   "pygments_lexer": "scala",
   "version": "0.4.1"
  }
 },
 "nbformat": 4,
 "nbformat_minor": 4
}
